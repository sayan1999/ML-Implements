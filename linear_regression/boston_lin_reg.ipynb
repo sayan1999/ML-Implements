{
 "cells": [
  {
   "cell_type": "markdown",
   "metadata": {},
   "source": [
    "## Importing dependencies"
   ]
  },
  {
   "cell_type": "code",
   "execution_count": null,
   "metadata": {
    "scrolled": true
   },
   "outputs": [],
   "source": [
    "import pandas as pd\n",
    "import numpy as np\n",
    "from sklearn import linear_model\n",
    "from sklearn.model_selection import train_test_split\n",
    "from sklearn.datasets import load_boston\n",
    "import seaborn as sns\n",
    "import matplotlib\n",
    "import matplotlib.pyplot as plt"
   ]
  },
  {
   "cell_type": "markdown",
   "metadata": {},
   "source": [
    "## Load the data"
   ]
  },
  {
   "cell_type": "code",
   "execution_count": null,
   "metadata": {
    "scrolled": true
   },
   "outputs": [],
   "source": [
    "dataset = load_boston()\n",
    "raw_df_x = pd.DataFrame(dataset.data, columns = dataset.feature_names)\n",
    "df_y = pd.DataFrame(dataset.target, columns = [\"Price\"])"
   ]
  },
  {
   "cell_type": "markdown",
   "metadata": {},
   "source": [
    "## Describe the dataset"
   ]
  },
  {
   "cell_type": "code",
   "execution_count": null,
   "metadata": {
    "scrolled": true
   },
   "outputs": [],
   "source": [
    "dataset.DESCR"
   ]
  },
  {
   "cell_type": "markdown",
   "metadata": {},
   "source": [
    "## Data pre-processing"
   ]
  },
  {
   "cell_type": "code",
   "execution_count": null,
   "metadata": {
    "scrolled": true
   },
   "outputs": [],
   "source": [
    "df_x=raw_df_x.drop(columns=['CHAS'])\n",
    "new_features=dataset.feature_names.tolist()\n",
    "new_features.remove('CHAS')"
   ]
  },
  {
   "cell_type": "markdown",
   "metadata": {},
   "source": [
    "## Data insight"
   ]
  },
  {
   "cell_type": "code",
   "execution_count": null,
   "metadata": {
    "scrolled": true
   },
   "outputs": [],
   "source": [
    "print(df_x.describe())\n",
    "print(df_y.describe())"
   ]
  },
  {
   "cell_type": "markdown",
   "metadata": {},
   "source": [
    "## Training the model"
   ]
  },
  {
   "cell_type": "code",
   "execution_count": null,
   "metadata": {
    "scrolled": true
   },
   "outputs": [],
   "source": [
    "model = linear_model.LinearRegression()\n",
    "\n",
    "x_train, x_test, y_train, y_test = train_test_split(df_x, df_y, test_size = 0.25, random_state = 55)\n",
    "\n",
    "model.fit(x_train, y_train)\n",
    "y_predict = model.predict(x_test)"
   ]
  },
  {
   "cell_type": "markdown",
   "metadata": {},
   "source": [
    "## Data visualization"
   ]
  },
  {
   "cell_type": "code",
   "execution_count": null,
   "metadata": {
    "scrolled": false
   },
   "outputs": [],
   "source": [
    "%matplotlib inline\n",
    "plt.rcParams['figure.figsize'] = [30, 70]\n",
    "plt.style.use('dark_background')\n",
    "plt.rcParams['axes.labelsize'] = 30\n",
    "matplotlib.rcParams.update({'font.size': 22})\n",
    "\n",
    "i=1\n",
    "for feature in new_features:\n",
    "    plt.subplot(6, 2, i)\n",
    "    training = plt.scatter(x_train[feature], y_train, color=\"green\", marker='.', alpha=1, s=150, label = \"training\")\n",
    "    predicted = plt.scatter(x_test[feature], y_predict, color=\"blue\", marker='.', alpha=1, s=150, label = \"predicted\")\n",
    "    \n",
    "    plt.title(\"Price vs \" + feature)\n",
    "    plt.xlabel(feature)\n",
    "    plt.ylabel('Price')\n",
    "    plt.legend((training, predicted),\n",
    "           ('training', 'predicted'),\n",
    "           scatterpoints=1,\n",
    "           loc='upper right',\n",
    "           ncol=1,\n",
    "           fontsize=40, frameon = True).get_frame().set_edgecolor('white')\n",
    "    \n",
    "    i=i+1\n",
    "    \n",
    "plt.tight_layout()"
   ]
  },
  {
   "cell_type": "markdown",
   "metadata": {},
   "source": [
    "## Evaluation of model"
   ]
  },
  {
   "cell_type": "code",
   "execution_count": null,
   "metadata": {
    "scrolled": true
   },
   "outputs": [],
   "source": [
    "from sklearn.metrics import mean_squared_error\n",
    "\n",
    "plt.rcParams['figure.figsize'] = [10, 5]\n",
    "plt.style.use('dark_background')\n",
    "matplotlib.rcParams.update({'font.size': 10})\n",
    "plt.text(x=0.15, y=0.5, s=\"Model Score: \"+str(model.score(x_test, y_test))+'\\n\\n\\\n",
    "    MSE: '+str(mean_squared_error(y_test, y_predict)), fontsize=22)\n",
    "plt.title('Evaluation')\n",
    "plt.show()"
   ]
  },
  {
   "cell_type": "code",
   "execution_count": null,
   "metadata": {
    "scrolled": true
   },
   "outputs": [],
   "source": [
    "plt.rcParams['figure.figsize'] = [7, 5]\n",
    "plt.style.use('dark_background')\n",
    "matplotlib.rcParams.update({'font.size': 10})\n",
    "plt.xlabel('test sample id')\n",
    "plt.ylabel('squared error')\n",
    "plt.plot(range(len(y_predict)), (y_predict-y_test)**2)\n",
    "plt.title('Squared error Per Sample')\n",
    "plt.show()"
   ]
  },
  {
   "cell_type": "code",
   "execution_count": null,
   "metadata": {
    "scrolled": true
   },
   "outputs": [],
   "source": [
    "plt.rcParams['figure.figsize'] = [7, 5]\n",
    "plt.style.use('dark_background')\n",
    "matplotlib.rcParams.update({'font.size': 10})\n",
    "plt.xlabel('test sample id')\n",
    "plt.ylabel('error in prediction')\n",
    "plt.plot(range(len(y_predict)), (y_predict-y_test))\n",
    "plt.title('Error Per Sample')\n",
    "plt.show()"
   ]
  }
 ],
 "metadata": {
  "kernelspec": {
   "display_name": "Python 3",
   "language": "python",
   "name": "python3"
  },
  "language_info": {
   "codemirror_mode": {
    "name": "ipython",
    "version": 3
   },
   "file_extension": ".py",
   "mimetype": "text/x-python",
   "name": "python",
   "nbconvert_exporter": "python",
   "pygments_lexer": "ipython3",
   "version": "3.6.9"
  }
 },
 "nbformat": 4,
 "nbformat_minor": 2
}
