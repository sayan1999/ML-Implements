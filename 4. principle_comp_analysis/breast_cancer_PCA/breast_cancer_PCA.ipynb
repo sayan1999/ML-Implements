{
 "cells": [
  {
   "cell_type": "markdown",
   "metadata": {},
   "source": [
    "## Import dependencies"
   ]
  },
  {
   "cell_type": "code",
   "execution_count": null,
   "metadata": {},
   "outputs": [],
   "source": [
    "import pandas as pd \n",
    "import numpy as np \n",
    "import matplotlib.pyplot as plt \n",
    "import seaborn as sns \n",
    "# %matplotlib inline "
   ]
  },
  {
   "cell_type": "markdown",
   "metadata": {},
   "source": [
    "## Load data"
   ]
  },
  {
   "cell_type": "code",
   "execution_count": null,
   "metadata": {},
   "outputs": [],
   "source": [
    "# Here we are using inbuilt dataset of scikit learn \n",
    "from sklearn.datasets import load_breast_cancer \n",
    "\n",
    "# instantiating \n",
    "cancer = load_breast_cancer() \n",
    "\n",
    "# creating dataframe \n",
    "df = pd.DataFrame(cancer['data'], columns = cancer['feature_names']) \n",
    "\n",
    "# checking head of dataframe \n",
    "df.head() "
   ]
  },
  {
   "cell_type": "markdown",
   "metadata": {},
   "source": [
    "## Computing PCA"
   ]
  },
  {
   "cell_type": "code",
   "execution_count": null,
   "metadata": {},
   "outputs": [],
   "source": [
    "# Importing standardscalar module \n",
    "from sklearn.preprocessing import StandardScaler \n",
    "\n",
    "scalar = StandardScaler() \n",
    "\n",
    "# fitting \n",
    "scalar.fit(df) \n",
    "scaled_data = scalar.transform(df) \n",
    "\n",
    "# Importing PCA \n",
    "from sklearn.decomposition import PCA \n",
    "\n",
    "# Let's say, components = 2 \n",
    "pca = PCA(n_components = 3) \n",
    "pca.fit(scaled_data) \n",
    "x_pca = pca.transform(scaled_data) \n",
    "\n",
    "x_pca.shape \n"
   ]
  },
  {
   "cell_type": "markdown",
   "metadata": {},
   "source": [
    "## Visualization of reduced dataset"
   ]
  },
  {
   "cell_type": "code",
   "execution_count": null,
   "metadata": {},
   "outputs": [],
   "source": [
    "# giving a larger plot \n",
    "plt.figure(figsize =(8, 6)) \n",
    "\n",
    "plt.scatter(x_pca[:, 0], x_pca[:, 1], c = cancer['target'], cmap ='plasma') \n",
    "\n",
    "# labeling x and y axes \n",
    "plt.xlabel('First Principal Component') \n",
    "plt.ylabel('Second Principal Component') \n"
   ]
  },
  {
   "cell_type": "markdown",
   "metadata": {},
   "source": [
    "# Training with reduced dataset"
   ]
  },
  {
   "cell_type": "code",
   "execution_count": null,
   "metadata": {},
   "outputs": [],
   "source": [
    "df_x=pd.DataFrame(x_pca[:, 0:2])\n",
    "df_y=pd.DataFrame(cancer['target'])\n",
    "df_x.shape\n",
    "# df_y.shape"
   ]
  },
  {
   "cell_type": "code",
   "execution_count": null,
   "metadata": {},
   "outputs": [],
   "source": [
    "from sklearn.linear_model import LogisticRegression\n",
    "from sklearn.model_selection import train_test_split\n",
    "from sklearn.metrics import classification_report\n",
    "model1 = LogisticRegression(solver='lbfgs', max_iter=10000)\n",
    "\n",
    "x_train, x_test, y_train, y_test = train_test_split(df_x, df_y, test_size = 0.25, random_state = 55)\n",
    "\n",
    "%time\n",
    "model1 = model1.fit(x_train, y_train.values.ravel())\n",
    "y_predict = model1.predict(x_test)"
   ]
  },
  {
   "cell_type": "code",
   "execution_count": null,
   "metadata": {},
   "outputs": [],
   "source": [
    "print(\"model score: \", model1.score(x_test, y_test))\n",
    "print('### testing on test data:')\n",
    "print(classification_report(y_test, y_predict))\n",
    "print('### testing on training data:')\n",
    "print(classification_report(y_train, model1.predict(x_train)))"
   ]
  },
  {
   "cell_type": "markdown",
   "metadata": {},
   "source": [
    "# Training with original data"
   ]
  },
  {
   "cell_type": "code",
   "execution_count": null,
   "metadata": {},
   "outputs": [],
   "source": [
    "df_x=pd.DataFrame(df)\n",
    "df_y=pd.DataFrame(cancer['target'])\n",
    "df_x.shape\n",
    "# df_y.shape"
   ]
  },
  {
   "cell_type": "code",
   "execution_count": null,
   "metadata": {},
   "outputs": [],
   "source": [
    "from sklearn.linear_model import LogisticRegression\n",
    "from sklearn.model_selection import train_test_split\n",
    "from sklearn.metrics import classification_report\n",
    "model2 = LogisticRegression(solver='lbfgs', max_iter=10000)\n",
    "\n",
    "x_train, x_test, y_train, y_test = train_test_split(df_x, df_y, test_size = 0.25, random_state = 55)\n",
    "\n",
    "%time\n",
    "model2.fit(x_train, y_train.values.ravel())\n",
    "y_predict = model2.predict(x_test)"
   ]
  },
  {
   "cell_type": "markdown",
   "metadata": {},
   "source": [
    "##Test Report"
   ]
  },
  {
   "cell_type": "code",
   "execution_count": null,
   "metadata": {},
   "outputs": [],
   "source": [
    "print(\"model score: \", model2.score(x_test, y_test))\n",
    "print('### testing on test data:')\n",
    "print(classification_report(y_test, y_predict))\n",
    "print('### testing on training data:')\n",
    "print(classification_report(y_train, model2.predict(x_train)))"
   ]
  },
  {
   "cell_type": "code",
   "execution_count": null,
   "metadata": {},
   "outputs": [],
   "source": []
  }
 ],
 "metadata": {
  "kernelspec": {
   "display_name": "Python 3",
   "language": "python",
   "name": "python3"
  },
  "language_info": {
   "codemirror_mode": {
    "name": "ipython",
    "version": 3
   },
   "file_extension": ".py",
   "mimetype": "text/x-python",
   "name": "python",
   "nbconvert_exporter": "python",
   "pygments_lexer": "ipython3",
   "version": "3.6.9"
  }
 },
 "nbformat": 4,
 "nbformat_minor": 2
}
