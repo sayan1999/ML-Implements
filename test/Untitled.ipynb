{
 "cells": [
  {
   "cell_type": "code",
   "execution_count": 1,
   "metadata": {},
   "outputs": [
    {
     "name": "stdout",
     "output_type": "stream",
     "text": [
      "sayan\n"
     ]
    }
   ],
   "source": [
    "print('sayan')"
   ]
  },
  {
   "cell_type": "code",
   "execution_count": null,
   "metadata": {},
   "outputs": [],
   "source": []
  }
 ],
 "metadata": {
  "kernelspec": {
   "display_name": "Python 3",
   "language": "python",
   "name": "python3"
  },
  "language_info": {
   "codemirror_mode": {
    "name": "ipython",
    "version": 3
   },
   "file_extension": ".py",
   "git": {
    "suppress_outputs": true
   },
   "mimetype": "text/x-python",
   "name": "Test",
   "nbconvert_exporter": "python",
   "pygments_lexer": "ipython3",
   "signature": "don't change the hash, but add a comma at the end of the line",
   "version": "3.6.9"
  }
 },
 "nbformat": 4,
 "nbformat_minor": 2
}
