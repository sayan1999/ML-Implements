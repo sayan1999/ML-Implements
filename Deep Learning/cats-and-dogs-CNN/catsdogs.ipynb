{
 "cells": [
  {
   "cell_type": "code",
   "execution_count": null,
   "metadata": {},
   "outputs": [],
   "source": [
    "# importing libraries \n",
    "from keras.preprocessing.image import ImageDataGenerator \n",
    "from keras.models import Sequential \n",
    "from keras.layers import Conv2D, MaxPooling2D, BatchNormalization\n",
    "from keras.layers import Activation, Dropout, Flatten, Dense \n",
    "from keras import backend as K"
   ]
  },
  {
   "cell_type": "code",
   "execution_count": null,
   "metadata": {},
   "outputs": [],
   "source": [
    "img_width, img_height = 512, 512\n",
    "\n",
    "train_data_dir = 'dataset/train'\n",
    "validation_data_dir = 'dataset/valid'\n",
    "nb_train_samples = 106\n",
    "nb_validation_samples = 12\n",
    "epochs = 15\n",
    "batch_size = 8"
   ]
  },
  {
   "cell_type": "code",
   "execution_count": null,
   "metadata": {},
   "outputs": [],
   "source": [
    "if K.image_data_format() == 'channels_first': \n",
    "\tinput_shape = (3, img_width, img_height) \n",
    "else: \n",
    "\tinput_shape = (img_width, img_height, 3) "
   ]
  },
  {
   "cell_type": "code",
   "execution_count": null,
   "metadata": {},
   "outputs": [],
   "source": [
    "train_datagen = ImageDataGenerator( \n",
    "\t\t\t\trescale = 1. / 255, \n",
    "\t\t\t\tshear_range = 0.2, \n",
    "\t\t\t\tzoom_range = 0.2, \n",
    "\t\t\thorizontal_flip = True) \n",
    "\n",
    "test_datagen = ImageDataGenerator(rescale = 1. / 255) \n",
    "\n",
    "train_generator = train_datagen.flow_from_directory(train_data_dir, \n",
    "\t\t\t\t\t\t\ttarget_size =(img_width, img_height), \n",
    "\t\t\t\t\tbatch_size = batch_size, class_mode ='binary') \n",
    "\n",
    "validation_generator = test_datagen.flow_from_directory( \n",
    "\t\t\t\t\t\t\t\t\tvalidation_data_dir, \n",
    "\t\t\t\ttarget_size =(img_width, img_height), \n",
    "\t\tbatch_size = batch_size, class_mode ='binary') "
   ]
  },
  {
   "cell_type": "code",
   "execution_count": null,
   "metadata": {},
   "outputs": [],
   "source": [
    "model = Sequential() \n",
    "model.add(Conv2D(32, (2, 2), input_shape = input_shape)) \n",
    "model.add(Activation('relu')) \n",
    "model.add(MaxPooling2D(pool_size =(2, 2)))\n",
    "model.add(BatchNormalization())\n",
    "\n",
    "model.add(Conv2D(32, (2, 2))) \n",
    "model.add(Activation('relu')) \n",
    "model.add(MaxPooling2D(pool_size =(2, 2))) \n",
    "model.add(BatchNormalization())\n",
    "\n",
    "model.add(Conv2D(64, (2, 2))) \n",
    "model.add(Activation('relu')) \n",
    "model.add(MaxPooling2D(pool_size =(2, 2))) \n",
    "model.add(BatchNormalization())\n",
    "\n",
    "model.add(Conv2D(96, (2, 2))) \n",
    "model.add(Activation('relu')) \n",
    "model.add(MaxPooling2D(pool_size =(2, 2))) \n",
    "model.add(BatchNormalization())\n",
    "model.add(Dropout(0.5)) \n",
    "\n",
    "model.add(Flatten()) \n",
    "model.add(Dense(64)) \n",
    "model.add(Activation('relu')) \n",
    "model.add(Dropout(0.5)) \n",
    "model.add(Dense(1)) \n",
    "model.add(Activation('softmax')) "
   ]
  },
  {
   "cell_type": "code",
   "execution_count": null,
   "metadata": {},
   "outputs": [],
   "source": [
    "model.compile(loss ='binary_crossentropy', \n",
    "\t\t\t\t\toptimizer ='rmsprop', \n",
    "\t\t\t\tmetrics =['accuracy']) "
   ]
  },
  {
   "cell_type": "code",
   "execution_count": null,
   "metadata": {},
   "outputs": [],
   "source": [
    "model.fit_generator(train_generator, \n",
    "\tsteps_per_epoch = nb_train_samples // batch_size, \n",
    "\tepochs = epochs, validation_data = validation_generator, \n",
    "\tvalidation_steps = nb_validation_samples // batch_size, shuffle=True)"
   ]
  }
 ],
 "metadata": {
  "kernelspec": {
   "display_name": "Python 3",
   "language": "python",
   "name": "python3"
  },
  "language_info": {
   "codemirror_mode": {
    "name": "ipython",
    "version": 3
   },
   "file_extension": ".py",
   "mimetype": "text/x-python",
   "name": "python",
   "nbconvert_exporter": "python",
   "pygments_lexer": "ipython3",
   "version": "3.6.9"
  }
 },
 "nbformat": 4,
 "nbformat_minor": 2
}
