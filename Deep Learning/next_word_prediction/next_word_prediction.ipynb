{
 "cells": [
  {
   "cell_type": "markdown",
   "metadata": {},
   "source": [
    "A model to predict the next word\n",
    "Approach: A wholesome vocabulary has been made, and encoded into integers\n",
    "\n",
    "Input Array contains: 1st, 2nd, 3rd word column and next(4th word in sequence)"
   ]
  },
  {
   "cell_type": "markdown",
   "metadata": {},
   "source": [
    "## Remove punctuation marks from words"
   ]
  },
  {
   "cell_type": "code",
   "execution_count": null,
   "metadata": {},
   "outputs": [],
   "source": [
    "import re\n",
    "\n",
    "def remove_spl_char(tokenized_sent):\n",
    "    \n",
    "    punctuation = re.compile('[^a-zA-Z]*')\n",
    "    post_punct_tokenized_sent = []\n",
    "    for token in tokenized_sent:\n",
    "        word=punctuation.sub(\"\", token.lower())\n",
    "        if len(word) > 0:\n",
    "            post_punct_tokenized_sent.append(word)\n",
    "\n",
    "    return post_punct_tokenized_sent"
   ]
  },
  {
   "cell_type": "markdown",
   "metadata": {},
   "source": [
    "## Read corpus files"
   ]
  },
  {
   "cell_type": "code",
   "execution_count": null,
   "metadata": {},
   "outputs": [],
   "source": [
    "from nltk.corpus import gutenberg\n",
    "all_tokenized_sentences = []\n",
    "for name in gutenberg.fileids():\n",
    "    tokenized_sentences = gutenberg.sents(name)\n",
    "    all_tokenized_sentences.extend(tokenized_sentences)"
   ]
  },
  {
   "cell_type": "code",
   "execution_count": null,
   "metadata": {},
   "outputs": [],
   "source": [
    "all_tokenized_sentences=all_tokenized_sentences[:200]"
   ]
  },
  {
   "cell_type": "markdown",
   "metadata": {},
   "source": [
    "## Process sentence tokens"
   ]
  },
  {
   "cell_type": "code",
   "execution_count": null,
   "metadata": {},
   "outputs": [],
   "source": [
    "processed_sentences = [remove_spl_char(tokenized_sent) for tokenized_sent in all_tokenized_sentences]\n",
    "processed_sentences = [sent for sent in processed_sentences if len(sent) > 3] "
   ]
  },
  {
   "cell_type": "markdown",
   "metadata": {},
   "source": [
    "# Enumerate Vocab"
   ]
  },
  {
   "cell_type": "code",
   "execution_count": null,
   "metadata": {},
   "outputs": [],
   "source": [
    "vocab = list(set([word for sent in processed_sentences for word in sent]))\n",
    "len(vocab)"
   ]
  },
  {
   "cell_type": "code",
   "execution_count": null,
   "metadata": {},
   "outputs": [],
   "source": [
    "dictionary = {b : a for (a, b) in enumerate(vocab)}\n",
    "reverse_dictionary = {a : b for (a, b) in enumerate(vocab)}"
   ]
  },
  {
   "cell_type": "markdown",
   "metadata": {},
   "source": [
    "## Prepare input and target arrays"
   ]
  },
  {
   "cell_type": "code",
   "execution_count": null,
   "metadata": {},
   "outputs": [],
   "source": [
    "import numpy as np\n",
    "from nltk.util import ngrams\n",
    "trigrams = ngrams\n",
    "word_input = np.array([words for sent in processed_sentences for words in ngrams(sent[:-1], 3)])\n",
    "word_output = np.array([words for sent in processed_sentences for words in sent[3:]])"
   ]
  },
  {
   "cell_type": "code",
   "execution_count": null,
   "metadata": {},
   "outputs": [],
   "source": [
    "from sklearn.preprocessing import LabelEncoder\n",
    "label=LabelEncoder()\n",
    "word_output_encoded=label.fit_transform(word_output)\n",
    "\n",
    "label_classes = to_categorical(word_output_encoded.reshape(-1, 1))"
   ]
  },
  {
   "cell_type": "code",
   "execution_count": null,
   "metadata": {},
   "outputs": [],
   "source": [
    "import pandas as pd\n",
    "data = pd.DataFrame({\"Input1\" : [dictionary[x] for x in word_input[:,0]], \n",
    "                     \"Input2\" : [dictionary[x] for x in word_input[:,1]], \n",
    "                     \"Input3\" : [dictionary[x] for x in word_input[:,2]], \n",
    "                     \"Output\" : label_class}).to_numpy()\n",
    "data=data.reshape(len(data), 4, 1)\n",
    "data"
   ]
  },
  {
   "cell_type": "markdown",
   "metadata": {},
   "source": [
    "## Import modules"
   ]
  },
  {
   "cell_type": "code",
   "execution_count": null,
   "metadata": {},
   "outputs": [],
   "source": [
    "from keras.models import Sequential\n",
    "from keras.layers import LSTM, Dropout, Dense\n",
    "from sklearn.model_selection import train_test_split\n",
    "import numpy as np\n",
    "from keras.losses import categorical_crossentropy"
   ]
  },
  {
   "cell_type": "markdown",
   "metadata": {},
   "source": [
    "## Split Train and Test Data"
   ]
  },
  {
   "cell_type": "code",
   "execution_count": null,
   "metadata": {},
   "outputs": [],
   "source": [
    "train_size = int(len(data)*0.8)"
   ]
  },
  {
   "cell_type": "markdown",
   "metadata": {},
   "source": [
    "## Construct LSTM"
   ]
  },
  {
   "cell_type": "code",
   "execution_count": null,
   "metadata": {},
   "outputs": [],
   "source": [
    "model = Sequential()\n",
    "model.add(LSTM((500), activation = 'relu', batch_input_shape=(None, 3, 1), return_sequences = True))\n",
    "model.add(LSTM((984), activation = 'softmax', return_sequences = False))\n",
    "model.compile(loss=categorical_crossentropy, optimizer='sgd', metrics=['accuracy'])\n",
    "\n",
    "model.summary()"
   ]
  },
  {
   "cell_type": "markdown",
   "metadata": {},
   "source": [
    "## Train with data"
   ]
  },
  {
   "cell_type": "code",
   "execution_count": null,
   "metadata": {},
   "outputs": [],
   "source": [
    "history = model.fit(data[:train_size, 0:3], \n",
    "                    label_classes[:train_size], epochs = 5, \n",
    "                    validation_data = (data[train_size: , 0:3], label_classes[train_size:]))"
   ]
  },
  {
   "cell_type": "markdown",
   "metadata": {},
   "source": [
    "## Analysis"
   ]
  },
  {
   "cell_type": "code",
   "execution_count": null,
   "metadata": {},
   "outputs": [],
   "source": [
    "def get_word(num):\n",
    "    return reverse_dictionary[num]\n",
    "\n",
    "p=model.predict_classes(data[train_size: , 0:3])"
   ]
  },
  {
   "cell_type": "code",
   "execution_count": null,
   "metadata": {},
   "outputs": [],
   "source": []
  },
  {
   "cell_type": "code",
   "execution_count": null,
   "metadata": {},
   "outputs": [],
   "source": []
  }
 ],
 "metadata": {
  "kernelspec": {
   "display_name": "Python 3",
   "language": "python",
   "name": "python3"
  },
  "language_info": {
   "codemirror_mode": {
    "name": "ipython",
    "version": 3
   },
   "file_extension": ".py",
   "mimetype": "text/x-python",
   "name": "python",
   "nbconvert_exporter": "python",
   "pygments_lexer": "ipython3",
   "version": "3.6.9"
  }
 },
 "nbformat": 4,
 "nbformat_minor": 2
}
