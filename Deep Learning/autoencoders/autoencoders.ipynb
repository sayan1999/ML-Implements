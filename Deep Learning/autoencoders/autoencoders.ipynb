{
 "cells": [
  {
   "cell_type": "code",
   "execution_count": null,
   "metadata": {},
   "outputs": [],
   "source": [
    "import numpy as np \n",
    "import matplotlib.pyplot as plt \n",
    "from random import randint \n",
    "from keras import backend as K \n",
    "from keras.layers import Input, Dense, Conv2D, MaxPooling2D, UpSampling2D \n",
    "from keras.models import Model \n",
    "from keras.datasets import mnist \n",
    "from keras.callbacks import TensorBoard "
   ]
  },
  {
   "cell_type": "code",
   "execution_count": null,
   "metadata": {},
   "outputs": [],
   "source": [
    "def load_data(): \n",
    "    # defining the input image size  \n",
    "    input_image = Input(shape =(28, 28, 1)) \n",
    "      \n",
    "    # Loading the data and dividing the data into training and testing sets \n",
    "    (X_train, _), (X_test, _) = mnist.load_data() \n",
    "      \n",
    "    # Cleaning and reshaping the data as required by the model \n",
    "    X_train = X_train.astype('float32') / 255.\n",
    "    X_train = np.reshape(X_train, (len(X_train), 28, 28, 1)) \n",
    "    X_test = X_test.astype('float32') / 255.\n",
    "    X_test = np.reshape(X_test, (len(X_test), 28, 28, 1)) \n",
    "      \n",
    "    return X_train, X_test, input_image"
   ]
  },
  {
   "cell_type": "code",
   "execution_count": null,
   "metadata": {},
   "outputs": [],
   "source": [
    "def build_network(input_image): \n",
    "\t\n",
    "\t# Building the encoder of the Auto-encoder \n",
    "\tx = Conv2D(16, (3, 3), activation ='relu', padding ='same')(input_image) \n",
    "\tx = MaxPooling2D((2, 2), padding ='same')(x) \n",
    "\tx = Conv2D(8, (3, 3), activation ='relu', padding ='same')(x) \n",
    "\tx = MaxPooling2D((2, 2), padding ='same')(x) \n",
    "\tx = Conv2D(8, (3, 3), activation ='relu', padding ='same')(x) \n",
    "\tencoded_layer = MaxPooling2D((2, 2), padding ='same')(x) \n",
    "\t\n",
    "\t# Building the decoder of the Auto-encoder \n",
    "\tx = Conv2D(8, (3, 3), activation ='relu', padding ='same')(encoded_layer) \n",
    "\tx = UpSampling2D((2, 2))(x) \n",
    "\tx = Conv2D(8, (3, 3), activation ='relu', padding ='same')(x) \n",
    "\tx = UpSampling2D((2, 2))(x) \n",
    "\tx = Conv2D(16, (3, 3), activation ='relu')(x) \n",
    "\tx = UpSampling2D((2, 2))(x) \n",
    "\tdecoded_layer = Conv2D(1, (3, 3), activation ='sigmoid', padding ='same')(x) \n",
    "\t\n",
    "\treturn decoded_layer \n"
   ]
  },
  {
   "cell_type": "code",
   "execution_count": null,
   "metadata": {},
   "outputs": [],
   "source": [
    "def build_auto_encoder_model(X_train, X_test, input_image, decoded_layer): \n",
    "      \n",
    "    # Defining the parameters of the Auto-encoder \n",
    "    autoencoder = Model(input_image, decoded_layer) \n",
    "    autoencoder.compile(optimizer ='adadelta', loss ='binary_crossentropy') \n",
    "      \n",
    "    # Training the Auto-encoder \n",
    "    history = autoencoder.fit(X_train, X_train, \n",
    "                epochs = 15, \n",
    "                batch_size = 256, \n",
    "                shuffle = True, \n",
    "                validation_data =(X_test, X_test), \n",
    "                callbacks =[TensorBoard(log_dir ='/tmp/autoencoder')]) \n",
    "      \n",
    "    return autoencoder, history"
   ]
  },
  {
   "cell_type": "code",
   "execution_count": null,
   "metadata": {},
   "outputs": [],
   "source": [
    "def visualize(model, X_test): \n",
    "      \n",
    "    # Reconstructing the encoded images \n",
    "    reconstructed_images = model.predict(X_test) \n",
    "      \n",
    "    plt.figure(figsize =(20, 4)) \n",
    "    for i in range(1, 11): \n",
    "          \n",
    "        # Generating a random to get random results \n",
    "        rand_num = randint(0, 10001) \n",
    "      \n",
    "        # To display the original image \n",
    "        ax = plt.subplot(2, 10, i) \n",
    "        plt.imshow(X_test[rand_num].reshape(28, 28)) \n",
    "        plt.gray() \n",
    "        ax.get_xaxis().set_visible(False) \n",
    "        ax.get_yaxis().set_visible(False) \n",
    "  \n",
    "        # To display the reconstructed image \n",
    "        ax = plt.subplot(2, 10, i + 10) \n",
    "        plt.imshow(reconstructed_images[rand_num].reshape(28, 28)) \n",
    "        plt.gray() \n",
    "        ax.get_xaxis().set_visible(False) \n",
    "        ax.get_yaxis().set_visible(False) \n",
    "          \n",
    "    # Displaying the plot \n",
    "    plt.show() "
   ]
  },
  {
   "cell_type": "code",
   "execution_count": null,
   "metadata": {},
   "outputs": [],
   "source": [
    "X_train, X_test, input_image = load_data()"
   ]
  },
  {
   "cell_type": "code",
   "execution_count": null,
   "metadata": {},
   "outputs": [],
   "source": [
    "decoded_layer = build_network(input_image) \n"
   ]
  },
  {
   "cell_type": "code",
   "execution_count": null,
   "metadata": {},
   "outputs": [],
   "source": [
    "auto_encoder_model = build_auto_encoder_model(X_train, \n",
    "\t\t\t\t\t\t\t\t\t\t\tX_test, \n",
    "\t\t\t\t\t\t\t\t\t\t\tinput_image, \n",
    "\t\t\t\t\t\t\t\t\t\t\tdecoded_layer) \n"
   ]
  },
  {
   "cell_type": "code",
   "execution_count": null,
   "metadata": {},
   "outputs": [],
   "source": [
    "model.save('mnist.h5')\n",
    "visualize(auto_encoder_model, X_test) "
   ]
  },
  {
   "cell_type": "code",
   "execution_count": null,
   "metadata": {},
   "outputs": [],
   "source": [
    "from matplotlib import pyplot as plt\n",
    "\n",
    "plt.plot(history.history['accuracy'])\n",
    "plt.plot(history.history['val_accuracy'])\n",
    "plt.title('model accuracy')\n",
    "plt.ylabel('accuracy')\n",
    "plt.xlabel('epoch')\n",
    "plt.legend(['train', 'val'], loc='upper left')\n",
    "plt.show()"
   ]
  },
  {
   "cell_type": "code",
   "execution_count": null,
   "metadata": {},
   "outputs": [],
   "source": [
    "plt.plot(history.history['loss'])\n",
    "plt.plot(history.history['val_loss'])\n",
    "plt.title('model loss')\n",
    "plt.ylabel('loss')\n",
    "plt.xlabel('epoch')\n",
    "plt.legend(['train', 'val'], loc='upper left')\n",
    "plt.show()\n"
   ]
  }
 ],
 "metadata": {
  "file_extension": ".py",
  "kernelspec": {
   "display_name": "Python 3.6.9 64-bit",
   "name": "python36964bit1d36797118424c3ea1f3d6e198aaf01a"
  },
  "language_info": {
   "codemirror_mode": {
    "name": "ipython",
    "version": 2
   },
   "name": "python",
   "version": "3.6.9-final"
  },
  "mimetype": "text/x-python",
  "name": "python",
  "npconvert_exporter": "python",
  "pygments_lexer": "ipython2",
  "version": 2
 },
 "nbformat": 4,
 "nbformat_minor": 2
}
