{
 "cells": [
  {
   "cell_type": "code",
   "execution_count": 25,
   "metadata": {
    "ExecuteTime": {
     "end_time": "2020-09-07T10:10:54.406457Z",
     "start_time": "2020-09-07T10:10:54.399476Z"
    },
    "scrolled": true
   },
   "outputs": [],
   "source": [
    "from sklearn.datasets import load_boston\n",
    "import pandas as pd, numpy as np\n",
    "from sklearn.model_selection import train_test_split\n",
    "from sklearn.pipeline import Pipeline\n",
    "from sklearn.decomposition import PCA\n",
    "from sklearn.linear_model import Ridge, LinearRegression, Lasso, ElasticNet\n",
    "from yellowbrick.contrib.classifier import DecisionViz\n",
    "from sklearn.preprocessing import Normalizer, StandardScaler\n",
    "from sklearn.preprocessing import StandardScaler\n",
    "from sklearn.metrics import mean_squared_error as mse"
   ]
  },
  {
   "cell_type": "markdown",
   "metadata": {},
   "source": [
    "## Data Preparation"
   ]
  },
  {
   "cell_type": "code",
   "execution_count": 5,
   "metadata": {
    "ExecuteTime": {
     "end_time": "2020-09-07T10:01:34.584299Z",
     "start_time": "2020-09-07T10:01:34.350131Z"
    }
   },
   "outputs": [],
   "source": [
    "data=load_boston()\n",
    "bostonDF=pd.DataFrame(data.data, columns=data.feature_names)\n",
    "bostonDF['Target']=data.target"
   ]
  },
  {
   "cell_type": "code",
   "execution_count": 6,
   "metadata": {
    "ExecuteTime": {
     "end_time": "2020-09-07T10:01:35.309906Z",
     "start_time": "2020-09-07T10:01:35.022009Z"
    }
   },
   "outputs": [],
   "source": [
    "X_train, X_test, y_train, y_test = train_test_split(bostonDF.drop(columns=['Target']), bostonDF['Target'], test_size=0.2, random_state=22)"
   ]
  },
  {
   "cell_type": "markdown",
   "metadata": {},
   "source": [
    "## Pipelines"
   ]
  },
  {
   "cell_type": "code",
   "execution_count": 7,
   "metadata": {
    "ExecuteTime": {
     "end_time": "2020-09-07T10:01:36.810718Z",
     "start_time": "2020-09-07T10:01:36.801743Z"
    }
   },
   "outputs": [],
   "source": [
    "Models=[Pipeline(steps=[('Standardization', StandardScaler()),\n",
    "                      ('Linear Regression', LinearRegression(normalize=True))]),\n",
    "        Pipeline(steps=[('Standardization', StandardScaler()),\n",
    "                        ('preprocessor', PCA(2)),\n",
    "                      ('Linear Regression with PCA', LinearRegression(normalize=True))]),\n",
    "        Pipeline(steps=[('Standardization', StandardScaler()),\n",
    "                        ('Lasso', Lasso(normalize=True))]),\n",
    "        Pipeline(steps=[('Standardization', StandardScaler()),\n",
    "                        ('Lasso alpha 0.01', Lasso(alpha=0.01, normalize=True))]),\n",
    "        Pipeline(steps=[('Standardization', StandardScaler()),\n",
    "                      ('Ridge', Ridge(normalize=True))]),\n",
    "        Pipeline(steps=[('Standardization', StandardScaler()),\n",
    "                      ('Ridge with alpha 0.01', Ridge(alpha = 0.01, normalize=True))]),\n",
    "       Pipeline(steps=[('Standardization', StandardScaler()),\n",
    "                      ('ElasticNet', ElasticNet(normalize=True))]),\n",
    "       Pipeline(steps=[('Standardization', StandardScaler()),\n",
    "                      ('ElasticNet with alpha 0.01', ElasticNet(alpha = 0.01, normalize=True))])]"
   ]
  },
  {
   "cell_type": "code",
   "execution_count": 10,
   "metadata": {
    "ExecuteTime": {
     "end_time": "2020-09-07T10:02:04.933946Z",
     "start_time": "2020-09-07T10:02:04.353537Z"
    },
    "scrolled": true
   },
   "outputs": [
    {
     "data": {
      "text/html": [
       "<div>\n",
       "<style scoped>\n",
       "    .dataframe tbody tr th:only-of-type {\n",
       "        vertical-align: middle;\n",
       "    }\n",
       "\n",
       "    .dataframe tbody tr th {\n",
       "        vertical-align: top;\n",
       "    }\n",
       "\n",
       "    .dataframe thead th {\n",
       "        text-align: right;\n",
       "    }\n",
       "</style>\n",
       "<table border=\"1\" class=\"dataframe\">\n",
       "  <thead>\n",
       "    <tr style=\"text-align: right;\">\n",
       "      <th></th>\n",
       "      <th>Name</th>\n",
       "      <th>train R2</th>\n",
       "      <th>train MSE</th>\n",
       "      <th>test R2</th>\n",
       "      <th>test MSE</th>\n",
       "    </tr>\n",
       "  </thead>\n",
       "  <tbody>\n",
       "    <tr>\n",
       "      <th>0</th>\n",
       "      <td>Linear Regression</td>\n",
       "      <td>0.729594</td>\n",
       "      <td>22.534576</td>\n",
       "      <td>0.765747</td>\n",
       "      <td>20.770685</td>\n",
       "    </tr>\n",
       "    <tr>\n",
       "      <th>1</th>\n",
       "      <td>Linear Regression with PCA</td>\n",
       "      <td>0.388678</td>\n",
       "      <td>50.945172</td>\n",
       "      <td>0.495690</td>\n",
       "      <td>44.715941</td>\n",
       "    </tr>\n",
       "    <tr>\n",
       "      <th>2</th>\n",
       "      <td>Lasso</td>\n",
       "      <td>0.000000</td>\n",
       "      <td>83.336123</td>\n",
       "      <td>-0.000610</td>\n",
       "      <td>88.721713</td>\n",
       "    </tr>\n",
       "    <tr>\n",
       "      <th>3</th>\n",
       "      <td>Lasso alpha 0.01</td>\n",
       "      <td>0.711552</td>\n",
       "      <td>24.038122</td>\n",
       "      <td>0.736640</td>\n",
       "      <td>23.351517</td>\n",
       "    </tr>\n",
       "    <tr>\n",
       "      <th>4</th>\n",
       "      <td>Ridge</td>\n",
       "      <td>0.619735</td>\n",
       "      <td>31.689790</td>\n",
       "      <td>0.671696</td>\n",
       "      <td>29.109904</td>\n",
       "    </tr>\n",
       "    <tr>\n",
       "      <th>5</th>\n",
       "      <td>Ridge with alpha 0.01</td>\n",
       "      <td>0.729353</td>\n",
       "      <td>22.554684</td>\n",
       "      <td>0.764548</td>\n",
       "      <td>20.877003</td>\n",
       "    </tr>\n",
       "    <tr>\n",
       "      <th>6</th>\n",
       "      <td>ElasticNet</td>\n",
       "      <td>0.000000</td>\n",
       "      <td>83.336123</td>\n",
       "      <td>-0.000610</td>\n",
       "      <td>88.721713</td>\n",
       "    </tr>\n",
       "    <tr>\n",
       "      <th>7</th>\n",
       "      <td>ElasticNet with alpha 0.01</td>\n",
       "      <td>0.531211</td>\n",
       "      <td>39.067024</td>\n",
       "      <td>0.576935</td>\n",
       "      <td>37.512166</td>\n",
       "    </tr>\n",
       "  </tbody>\n",
       "</table>\n",
       "</div>"
      ],
      "text/plain": [
       "                         Name  train R2  train MSE   test R2   test MSE\n",
       "0           Linear Regression  0.729594  22.534576  0.765747  20.770685\n",
       "1  Linear Regression with PCA  0.388678  50.945172  0.495690  44.715941\n",
       "2                       Lasso  0.000000  83.336123 -0.000610  88.721713\n",
       "3            Lasso alpha 0.01  0.711552  24.038122  0.736640  23.351517\n",
       "4                       Ridge  0.619735  31.689790  0.671696  29.109904\n",
       "5       Ridge with alpha 0.01  0.729353  22.554684  0.764548  20.877003\n",
       "6                  ElasticNet  0.000000  83.336123 -0.000610  88.721713\n",
       "7  ElasticNet with alpha 0.01  0.531211  39.067024  0.576935  37.512166"
      ]
     },
     "execution_count": 10,
     "metadata": {},
     "output_type": "execute_result"
    }
   ],
   "source": [
    "rows=[]\n",
    "for model in Models:\n",
    "    model.fit(X_train, y_train)\n",
    "    rows.append([model.steps[-1][0], model.score(X_train, y_train), mse(model.predict(X_train), y_train), model.score(X_test, y_test), mse(model.predict(X_test), y_test)])\n",
    "\n",
    "pd.DataFrame(rows, columns=['Name', 'train R2', 'train MSE', 'test R2', 'test MSE'])\n"
   ]
  },
  {
   "cell_type": "markdown",
   "metadata": {},
   "source": []
  },
  {
   "cell_type": "code",
   "execution_count": 67,
   "metadata": {
    "ExecuteTime": {
     "end_time": "2020-09-07T10:24:56.368304Z",
     "start_time": "2020-09-07T10:24:56.346360Z"
    }
   },
   "outputs": [],
   "source": []
  },
  {
   "cell_type": "code",
   "execution_count": 70,
   "metadata": {
    "ExecuteTime": {
     "end_time": "2020-09-07T10:26:53.253096Z",
     "start_time": "2020-09-07T10:26:53.067593Z"
    }
   },
   "outputs": [
    {
     "data": {
      "image/png": "[encoded data removed]",
      "text/plain": [
       "<Figure size 576x396 with 1 Axes>"
      ]
     },
     "metadata": {},
     "output_type": "display_data"
    }
   ],
   "source": []
  },
  {
   "cell_type": "code",
   "execution_count": null,
   "metadata": {},
   "outputs": [],
   "source": []
  }
 ],
 "metadata": {
  "kernelspec": {
   "display_name": "Python 3",
   "language": "python",
   "name": "python3"
  },
  "language_info": {
   "codemirror_mode": {
    "name": "ipython",
    "version": 3
   },
   "file_extension": ".py",
   "mimetype": "text/x-python",
   "name": "python",
   "nbconvert_exporter": "python",
   "pygments_lexer": "ipython3",
   "version": "3.7.7"
  },
  "toc": {
   "base_numbering": 1,
   "nav_menu": {},
   "number_sections": true,
   "sideBar": true,
   "skip_h1_title": false,
   "title_cell": "Table of Contents",
   "title_sidebar": "Contents",
   "toc_cell": false,
   "toc_position": {},
   "toc_section_display": true,
   "toc_window_display": false
  }
 },
 "nbformat": 4,
 "nbformat_minor": 4
}
