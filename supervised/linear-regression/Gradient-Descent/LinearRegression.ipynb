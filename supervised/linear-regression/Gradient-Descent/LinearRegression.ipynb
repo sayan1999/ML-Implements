{
 "cells": [
  {
   "cell_type": "code",
   "execution_count": 1,
   "metadata": {
    "ExecuteTime": {
     "end_time": "2020-09-10T02:33:30.735890Z",
     "start_time": "2020-09-10T02:33:30.187880Z"
    }
   },
   "outputs": [],
   "source": [
    "import numpy as np\n",
    "from tqdm import tqdm\n",
    "import random, math\n",
    "from matplotlib import pyplot as plt\n",
    "\n",
    "def mean_squared_error(ytrue, ypred):\n",
    "    return ((ytrue.reshape(-1) - ypred.reshape(-1))**2).mean()\n",
    "\n",
    "def r2_score(ytrue, ypred):\n",
    "    SSE=((ytrue.reshape(-1) - ypred.reshape(-1))**2).sum()\n",
    "    SSTO=((ytrue.reshape(-1).mean() - ytrue.reshape(-1))**2).sum()\n",
    "    return 1 - (SSE/SSTO)\n",
    "\n",
    "class linear_reg:\n",
    "    \n",
    "    def __init__(self, alpha=0.001, C=50, preprocessors=[], patience=10):\n",
    "        self.alpha=alpha\n",
    "        self.C=C\n",
    "        self.preprocessors=preprocessors\n",
    "        self.patience=10\n",
    "        pass\n",
    "    \n",
    "    def plot(self, r2s, losses):\n",
    "        plt.style.use('dark_background')\n",
    "        fig, ax =  plt.subplots(1,2, figsize=(10, 6))\n",
    "        ax[0].plot(r2s, color='yellow')\n",
    "        ax[0].set_title('R2 score Plot'), ax[0].set_xlabel('Epochs'), ax[0].set_ylabel('R2')\n",
    "        ax[1].plot(losses, color='yellow')\n",
    "        ax[1].set_title('Loss Plot'), ax[1].set_xlabel('Epochs'), ax[1].set_ylabel('loss')\n",
    "        plt.show()\n",
    "        \n",
    "    def computeCost(self, deviation):\n",
    "        return (deviation**2).mean() + np.linalg.norm(self.params)**2/self.C\n",
    "    \n",
    "    def _gen_batch(self, batch_size, no_of_samples, *args):\n",
    "        i=0\n",
    "        for j in range(math.ceil(no_of_samples/batch_size)):\n",
    "            yield [arg[i:min(i+batch_size, no_of_samples)] for arg in args]\n",
    "            i+=batch_size   \n",
    "            \n",
    "    def earlystop(self, losses):\n",
    "        if len(losses)<self.patience:\n",
    "            return False\n",
    "        return all(losses[-1] >= loss for loss in losses[-(self.patience+1):-1])\n",
    "        \n",
    "    def fit(self, X, y, epochs=100000, batch_size=128, plot=True):\n",
    "        \n",
    "        alpha=self.alpha\n",
    "        C=self.C\n",
    "               \n",
    "        X=np.array(X)\n",
    "        y=np.array(y)\n",
    "        num_of_samples=len(y)\n",
    "        \n",
    "        for pp in self.preprocessors:\n",
    "            X=pp.fit_transform(X)\n",
    "            \n",
    "        biased_X=np.concatenate([np.ones((X.shape[0], 1)), X], axis=1)\n",
    "        self.params=np.ones(X.shape[1]+1)*10 \n",
    "        SSTO=((y-y.mean())**2).sum()\n",
    "        \n",
    "        r2scores, losses = [], []\n",
    "        pbar=tqdm(range(epochs), position=0, leave=True)\n",
    "        for epoch in pbar:\n",
    "            \n",
    "            indices=np.array(range(num_of_samples))\n",
    "            random.shuffle(indices)\n",
    "            biased_X = biased_X[indices]\n",
    "            y = y[indices]\n",
    "            \n",
    "            for batch_biased_X, batch_y in self._gen_batch(batch_size, num_of_samples, biased_X, y):\n",
    "                yhat=batch_biased_X.dot(self.params)\n",
    "                deviation=yhat-batch_y\n",
    "#                 cost=(deviation**2).mean()\n",
    "                delta_params=(2/C)*self.params + 2*batch_biased_X.T.dot(deviation)/num_of_samples\n",
    "                self.params=self.params-alpha*delta_params\n",
    "        \n",
    "            ypred=biased_X.dot(self.params)\n",
    "            SSE=((ypred-y)**2).sum()\n",
    "            r2=1-SSE/SSTO\n",
    "            cur_cost=SSE/num_of_samples\n",
    "            pbar.set_description(\"R2 {:.2f} MSE {:.2f}\".format(r2, cur_cost))\n",
    "            r2scores.append(r2), losses.append(cur_cost)\n",
    "            if self.patience and self.earlystop(losses):\n",
    "                print(f'Early stopping, loss traceback: {losses[-(self.patience+1):]}')\n",
    "                break\n",
    "        if plot:\n",
    "            self.plot(r2scores, losses)\n",
    "            \n",
    "            \n",
    "    def predict(self, Xpred):\n",
    "        for pp in self.preprocessors:\n",
    "            Xpred=pp.transform(Xpred)\n",
    "        biased_Xpred=np.concatenate([np.ones((Xpred.shape[0], 1)), Xpred], axis=1)\n",
    "        return biased_Xpred.dot(self.params)\n",
    "    \n",
    "    def score(self, predX, y_true):\n",
    "        yhat=self.predict(predX)\n",
    "        return r2_score(y_true, yhat)"
   ]
  },
  {
   "cell_type": "code",
   "execution_count": 4,
   "metadata": {
    "ExecuteTime": {
     "end_time": "2020-09-10T02:39:48.533841Z",
     "start_time": "2020-09-10T02:39:24.607915Z"
    },
    "scrolled": true
   },
   "outputs": [
    {
     "name": "stderr",
     "output_type": "stream",
     "text": [
      "R2 0.56 MSE 38.92:   9%|█████▏                                                  | 9169/100000 [00:23<03:52, 390.95it/s]\n"
     ]
    },
    {
     "name": "stdout",
     "output_type": "stream",
     "text": [
      "Early stopping, loss traceback: [38.91714169239367, 38.917141861138695, 38.91714075766898, 38.91714039933178, 38.91713958256904, 38.9171383823336, 38.91713948805577, 38.91713819120365, 38.91714014844063, 38.917141309207565, 38.91714235553759]\n"
     ]
    },
    {
     "data": {
      "image/png": "[encoded data removed]",
      "text/plain": [
       "<Figure size 720x432 with 2 Axes>"
      ]
     },
     "metadata": {},
     "output_type": "display_data"
    },
    {
     "name": "stdout",
     "output_type": "stream",
     "text": [
      "40.84332870623826 0.5569557260818501 0.41022454773614736\n"
     ]
    }
   ],
   "source": [
    "from sklearn.datasets import load_boston\n",
    "from sklearn.preprocessing import StandardScaler, Normalizer\n",
    "from sklearn.linear_model import LinearRegression\n",
    "from sklearn.model_selection import train_test_split\n",
    "from sklearn.decomposition import PCA\n",
    "\n",
    "X, y=load_boston(return_X_y=True)\n",
    "trainX, testX, trainY, testY = train_test_split(X, y, random_state=28, test_size=0.2)\n",
    "\n",
    "lr=linear_reg(preprocessors=[StandardScaler(), Normalizer()])\n",
    "# lr=LinearRegression()\n",
    "lr.fit(trainX, trainY)\n",
    "\n",
    "pred=lr.predict(testX)\n",
    "print(mean_squared_error(pred, testY), lr.score(trainX, trainY), lr.score(testX, testY))"
   ]
  },
  {
   "cell_type": "code",
   "execution_count": null,
   "metadata": {},
   "outputs": [],
   "source": []
  }
 ],
 "metadata": {
  "kernelspec": {
   "display_name": "Python 3",
   "language": "python",
   "name": "python3"
  },
  "language_info": {
   "codemirror_mode": {
    "name": "ipython",
    "version": 3
   },
   "file_extension": ".py",
   "mimetype": "text/x-python",
   "name": "python",
   "nbconvert_exporter": "python",
   "pygments_lexer": "ipython3",
   "version": "3.7.7"
  },
  "toc": {
   "base_numbering": 1,
   "nav_menu": {},
   "number_sections": true,
   "sideBar": true,
   "skip_h1_title": false,
   "title_cell": "Table of Contents",
   "title_sidebar": "Contents",
   "toc_cell": false,
   "toc_position": {},
   "toc_section_display": true,
   "toc_window_display": false
  }
 },
 "nbformat": 4,
 "nbformat_minor": 4
}
