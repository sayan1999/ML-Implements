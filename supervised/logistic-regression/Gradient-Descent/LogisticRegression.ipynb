{
 "cells": [
  {
   "cell_type": "code",
   "execution_count": 3,
   "metadata": {
    "ExecuteTime": {
     "end_time": "2020-09-10T02:43:28.489942Z",
     "start_time": "2020-09-10T02:43:28.455035Z"
    }
   },
   "outputs": [],
   "source": [
    "import numpy as np\n",
    "from tqdm import tqdm\n",
    "import random, math\n",
    "from sklearn.preprocessing import LabelBinarizer\n",
    "from matplotlib import pyplot as plt\n",
    "\n",
    "sigmoid = lambda x: 1/(1+np.exp(-x))\n",
    "\n",
    "def accuracy_score(y_true, pred):\n",
    "    return (y_true == pred).mean()*100\n",
    "\n",
    "class logistic_reg:\n",
    "    \n",
    "    def __init__(self, alpha=0.001, C=50, preprocessors=[], patience=10):\n",
    "        self.alpha=alpha\n",
    "        self.C=C\n",
    "        self.lb=LabelBinarizer()\n",
    "        self.preprocessors=preprocessors\n",
    "        self.patience=patience\n",
    "        pass\n",
    "    \n",
    "    def earlystop(self, losses):\n",
    "        if len(losses)<self.patience:\n",
    "            return False\n",
    "        return all(losses[-1] >= loss for loss in losses[-(self.patience+1):-1])\n",
    "    \n",
    "    def plot(self, accuracies, losses):\n",
    "        plt.style.use('dark_background')\n",
    "        fig, ax =  plt.subplots(1,2, figsize=(10, 6))\n",
    "        ax[0].plot(accuracies, color='yellow')\n",
    "        ax[0].set_title('Accuracy Plot'), ax[0].set_xlabel('Epochs'), ax[0].set_ylabel('accuracy')\n",
    "        ax[1].plot(losses, color='yellow')\n",
    "        ax[1].set_title('Loss Plot'), ax[1].set_xlabel('Epochs'), ax[1].set_ylabel('loss')\n",
    "        plt.show()\n",
    "        \n",
    "    def computeCost(self, y, yhat):\n",
    "        return (-y * np.log(yhat) - (1 - y)*np.log(1 - yhat)).mean() + np.linalg.norm(self.params)**2/self.C\n",
    "\n",
    "    def _gen_batch(self, batch_size, no_of_samples, *args):\n",
    "        i=0\n",
    "        for j in range(math.ceil(no_of_samples/batch_size)):\n",
    "            yield [arg[i:min(i+batch_size, no_of_samples)] for arg in args]\n",
    "            i+=batch_size        \n",
    "    \n",
    "    def fit(self, X, Class, epochs=20000, batch_size=32, plot=True):\n",
    "        \n",
    "        alpha=self.alpha\n",
    "        C=self.C\n",
    "        \n",
    "        X=np.array(X)\n",
    "        for pp in self.preprocessors:\n",
    "            X=pp.fit_transform(X)\n",
    "            \n",
    "        Class=np.array(Class)\n",
    "        y=self.lb.fit_transform(Class)       \n",
    "        num_of_samples, no_of_classes = y.shape\n",
    "        biased_X=np.concatenate([np.ones((X.shape[0], 1)), X], axis=1)\n",
    "        self.params=np.random.rand(no_of_classes, X.shape[1]+1)       \n",
    "        \n",
    "        accuracies, losses = [], []\n",
    "        pbar=tqdm(range(epochs), position=0, leave=True)\n",
    "        for epoch in pbar:           \n",
    "            indices=np.array(range(num_of_samples))\n",
    "            random.shuffle(indices)\n",
    "            biased_X = biased_X[indices]\n",
    "            y = y[indices]\n",
    "            \n",
    "            for batch_biased_X, batch_y in self._gen_batch(batch_size, num_of_samples, biased_X, y):\n",
    "                yhat=sigmoid(np.matmul(batch_biased_X, self.params.T))\n",
    "                deviation=yhat-batch_y\n",
    "                cost=self.computeCost(batch_y, yhat)\n",
    "                delta_params=(2/C)*self.params.T + 2*batch_biased_X.T.dot(deviation)/num_of_samples\n",
    "                self.params=self.params-alpha*delta_params.T\n",
    "            yhat=sigmoid(np.matmul(biased_X, self.params.T))\n",
    "            cur_cost=(-y * np.log(yhat) - (1 - y)*np.log(1 - yhat)).mean()\n",
    "            predClass=self.lb.inverse_transform(yhat)\n",
    "            ytrue=self.lb.inverse_transform(y)\n",
    "            accuracy=accuracy_score(predClass, ytrue)\n",
    "            pbar.set_description(\"Accuracy {:.2f} Loss {:.2f}\".format(accuracy, cur_cost))\n",
    "            accuracies.append(accuracy), losses.append(cur_cost)\n",
    "            if self.patience and self.earlystop(losses):\n",
    "                print(f'Early stopping, loss traceback: {losses[-(self.patience+1):]}')\n",
    "                break\n",
    "        if plot:\n",
    "            self.plot(accuracies, losses)\n",
    "            \n",
    "    def predict(self, Xpred):\n",
    "        biased_Xpred=np.concatenate([np.ones((Xpred.shape[0], 1)), Xpred], axis=1)\n",
    "        return sigmoid(np.matmul(biased_Xpred, self.params.T))\n",
    "    \n",
    "    def predict_classes(self, Xpred):\n",
    "        for pp in self.preprocessors:\n",
    "            Xpred=pp.transform(Xpred)\n",
    "        pred=self.predict(Xpred)\n",
    "        return self.lb.inverse_transform(pred)\n",
    "    \n",
    "    def score(self, predX, y_true):\n",
    "        pred=self.predict_classes(predX)\n",
    "        return accuracy_score(y_true, pred)"
   ]
  },
  {
   "cell_type": "code",
   "execution_count": 4,
   "metadata": {
    "ExecuteTime": {
     "end_time": "2020-09-10T02:44:45.260038Z",
     "start_time": "2020-09-10T02:43:28.789709Z"
    },
    "scrolled": true
   },
   "outputs": [
    {
     "name": "stderr",
     "output_type": "stream",
     "text": [
      "Accuracy 93.41 Loss 0.51:  88%|██████████████████████████████████████████▉      | 17517/20000 [01:16<00:10, 230.11it/s]\n"
     ]
    },
    {
     "name": "stdout",
     "output_type": "stream",
     "text": [
      "Early stopping, loss traceback: [0.5091637619842064, 0.5091637611340992, 0.5091637604590479, 0.5091637614433489, 0.5091637610596935, 0.5091637617976216, 0.5091637613294373, 0.5091637617066263, 0.5091637631766031, 0.5091637629307877, 0.5091637637694921]\n"
     ]
    },
    {
     "data": {
      "image/png": "[encoded data removed]",
      "text/plain": [
       "<Figure size 720x432 with 2 Axes>"
      ]
     },
     "metadata": {},
     "output_type": "display_data"
    },
    {
     "data": {
      "text/plain": [
       "(93.85964912280701, 93.4065934065934)"
      ]
     },
     "execution_count": 4,
     "metadata": {},
     "output_type": "execute_result"
    }
   ],
   "source": [
    "from sklearn.datasets import load_breast_cancer\n",
    "from sklearn.model_selection import train_test_split\n",
    "from sklearn.preprocessing import StandardScaler, Normalizer\n",
    "\n",
    "plt.style.use('dark_background')\n",
    "X, y = load_breast_cancer(return_X_y=True)\n",
    "trainX, testX, trainY, testY = train_test_split(X, y, random_state=28, test_size=0.2)\n",
    "\n",
    "cls=logistic_reg(preprocessors=[StandardScaler(), Normalizer()])\n",
    "cls.fit(trainX, trainY)\n",
    "cls.score(testX, testY), cls.score(trainX, trainY)"
   ]
  },
  {
   "cell_type": "code",
   "execution_count": null,
   "metadata": {},
   "outputs": [],
   "source": []
  }
 ],
 "metadata": {
  "kernelspec": {
   "display_name": "Python 3",
   "language": "python",
   "name": "python3"
  },
  "language_info": {
   "codemirror_mode": {
    "name": "ipython",
    "version": 3
   },
   "file_extension": ".py",
   "mimetype": "text/x-python",
   "name": "python",
   "nbconvert_exporter": "python",
   "pygments_lexer": "ipython3",
   "version": "3.7.7"
  },
  "toc": {
   "base_numbering": 1,
   "nav_menu": {},
   "number_sections": true,
   "sideBar": true,
   "skip_h1_title": false,
   "title_cell": "Table of Contents",
   "title_sidebar": "Contents",
   "toc_cell": false,
   "toc_position": {},
   "toc_section_display": true,
   "toc_window_display": false
  }
 },
 "nbformat": 4,
 "nbformat_minor": 4
}
