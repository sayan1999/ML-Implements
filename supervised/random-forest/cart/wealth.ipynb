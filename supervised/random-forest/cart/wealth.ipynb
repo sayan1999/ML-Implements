{
 "cells": [
  {
   "cell_type": "code",
   "execution_count": 6,
   "metadata": {
    "ExecuteTime": {
     "end_time": "2020-09-18T10:29:03.830208Z",
     "start_time": "2020-09-18T10:29:03.823228Z"
    }
   },
   "outputs": [],
   "source": [
    "class Node:\n",
    "    \n",
    "    def __init__(self, feature, threshold, answer=0, left=None, right=None):\n",
    "        self.left=left\n",
    "        self.right=right\n",
    "        self.feature=feature\n",
    "        self.threshold=threshold\n",
    "        self.answer=answer\n",
    "        pass \n",
    "    \n",
    "    def setleft(self, left):\n",
    "        self.left=left\n",
    "        \n",
    "    def setright(self, right):\n",
    "        self.right=right "
   ]
  },
  {
   "cell_type": "code",
   "execution_count": 7,
   "metadata": {
    "ExecuteTime": {
     "end_time": "2020-09-18T10:29:03.956506Z",
     "start_time": "2020-09-18T10:29:03.833200Z"
    }
   },
   "outputs": [],
   "source": [
    "import numpy as np\n",
    "from sklearn.preprocessing import LabelEncoder   \n",
    "\n",
    "def accuracy_score(true, pred):\n",
    "    return (true==pred).mean()\n",
    "\n",
    "def cvtToFeasibleDtype(colArray):\n",
    "    if colArray.dtype==np.dtype('int32') or  colArray.dtype==np.dtype('int64'):\n",
    "        return colArray\n",
    "    try:\n",
    "        return colArray.astype(float)\n",
    "    except:\n",
    "        return colArray.astype(str)    \n",
    "\n",
    "def squaredSumOfFractions(yi):    \n",
    "    _, counts=np.unique(yi, return_counts=True)\n",
    "    return np.linalg.norm(counts/yi.shape[0])**2\n",
    "    \n",
    "def computeGini(x, y, threshold):\n",
    "    leftclassfraction=np.count_nonzero(x<=threshold)/len(x)\n",
    "    rightclassfraction=np.count_nonzero(x>threshold)/len(x)\n",
    "    return leftclassfraction*(1 - squaredSumOfFractions(y[x<=threshold])) + rightclassfraction*(1 - squaredSumOfFractions(y[x>threshold]))\n",
    "    \n",
    "class DecisionTree:\n",
    "    \n",
    "    def __init__(self, maxHeight=10, minSamplesSplit=3):\n",
    "        self.maxHeight=maxHeight\n",
    "        self.minSamplesSplit=minSamplesSplit\n",
    "        pass\n",
    "    \n",
    "    def selectFeature(self, X, y):\n",
    "\n",
    "        featurewiseImpurity=[]\n",
    "        thresholds=[]\n",
    "\n",
    "        for feature in range(X.shape[0]):\n",
    "            \n",
    "            thresholdwiseImpurity=[]\n",
    "            uniquevals=np.sort(np.unique(X[feature]))\n",
    "            \n",
    "            possiblethresholds=(uniquevals[1:] + uniquevals[:-1]) / 2\n",
    "            if len(uniquevals)==1:\n",
    "                possiblethresholds=[uniquevals[0]]\n",
    "            \n",
    "            for threshold in possiblethresholds:\n",
    "                thresholdwiseImpurity.append(computeGini(X[feature], y, threshold))            \n",
    "            \n",
    "            whichthreshold=np.argmin(thresholdwiseImpurity)\n",
    "            thresholds.append(possiblethresholds[whichthreshold])\n",
    "            featurewiseImpurity.append(thresholdwiseImpurity[whichthreshold])\n",
    "        \n",
    "        whichfeature = np.argmin(featurewiseImpurity)\n",
    "        return whichfeature, thresholds[whichfeature], featurewiseImpurity[whichfeature]\n",
    "        \n",
    "    def build_tree(self, X, y, giniIndex, height=0):\n",
    "\n",
    "        if np.unique(y).shape[0]==1 or height>=self.maxHeight or X.shape[1]<self.minSamplesSplit:\n",
    "            return Node('', '', np.bincount(y).argmax())\n",
    "        \n",
    "        feature, threshold, newGini = self.selectFeature(X, y)  \n",
    "        if newGini>giniIndex or np.unique(X[feature]).shape[0]==1:\n",
    "            return Node('', '', np.bincount(y).argmax())\n",
    "        \n",
    "        root=Node(feature, threshold, np.bincount(y).argmax())        \n",
    "        leftRows, rightRows = X[feature]<=threshold, X[feature]>threshold\n",
    "        root.setleft(self.build_tree(X[:, leftRows], y[leftRows], newGini, \n",
    "                                     height=height+1))\n",
    "        root.setright(self.build_tree(X[:, rightRows], y[rightRows], newGini, \n",
    "                                      height=height+1))\n",
    "        return root\n",
    "    \n",
    "    def preprocess(self, X, y=None, fit=True):\n",
    "        \n",
    "        X = np.array(X).T\n",
    "        X = [cvtToFeasibleDtype(X[col]) for col in range(len(X))]\n",
    "        \n",
    "        if not fit:            \n",
    "            X = np.array([self.encoders[col].transform(X[col]) \n",
    "                    if col in self.encoders else X[col] for col in range(len(X))])            \n",
    "            if y is not None:\n",
    "                return X, self.le.transform(y)\n",
    "            return X\n",
    "        \n",
    "        self.dtypes = [col.dtype for col in X]    \n",
    "        self.encoders = {i:LabelEncoder() for i, dtype in enumerate(self.dtypes) \n",
    "                         if dtype.char == 'U'}        \n",
    "        X = np.array([self.encoders[col].fit_transform(X[col]) \n",
    "                    if dtype.char == 'U' else X[col] for col, dtype in enumerate(self.dtypes)])    \n",
    "        if y is not None:\n",
    "            self.le=LabelEncoder()\n",
    "            return X, self.le.fit_transform(y)\n",
    "        return X\n",
    "    \n",
    "    def fit(self, X, y):\n",
    "        \n",
    "        X, y = self.preprocess(X, y)\n",
    "        self.root=self.build_tree(X, y, 1-squaredSumOfFractions(y))\n",
    "    \n",
    "    def predict(self, X):\n",
    "        \n",
    "        X=self.preprocess(X, fit=False).T\n",
    "        predictions=[]\n",
    "        for x in X:\n",
    "            root=self.root\n",
    "            while root.left:\n",
    "                if x[root.feature] <= root.threshold:\n",
    "                    root=root.left\n",
    "                else:\n",
    "                    root=root.right\n",
    "            predictions.append(root.answer)\n",
    "        return np.array(predictions)\n",
    "    \n",
    "    def predict_classes(self, X):\n",
    "        return self.le.inverse_transform(self.predict(X))\n",
    "    \n",
    "    def score(self, X, y):\n",
    "        return accuracy_score(self.predict(X), self.le.transform(y))"
   ]
  },
  {
   "cell_type": "code",
   "execution_count": 11,
   "metadata": {
    "ExecuteTime": {
     "end_time": "2020-09-18T10:32:26.336164Z",
     "start_time": "2020-09-18T10:32:26.283305Z"
    }
   },
   "outputs": [],
   "source": [
    "import random\n",
    "\n",
    "class RandomForest():\n",
    "    \n",
    "    def __init__(self, num_of_trees=200):\n",
    "        \n",
    "        self.num_of_trees=num_of_trees\n",
    "        pass\n",
    "    \n",
    "    def preprocess(self, X, y=None, fit=True):\n",
    "        \n",
    "        X = np.array(X).T\n",
    "        X = [cvtToFeasibleDtype(X[col]) for col in range(len(X))]\n",
    "        \n",
    "        if not fit:            \n",
    "            X = np.array([self.encoders[col].transform(X[col]) \n",
    "                    if col in self.encoders else X[col] for col in range(len(X))])            \n",
    "            if y is not None:\n",
    "                return X, self.le.transform(y)\n",
    "            return X\n",
    "        \n",
    "        self.dtypes = [col.dtype for col in X]    \n",
    "        self.encoders = {i:LabelEncoder() for i, dtype in enumerate(self.dtypes) \n",
    "                         if dtype.char == 'U'}        \n",
    "        X = np.array([self.encoders[col].fit_transform(X[col]) \n",
    "                    if dtype.char == 'U' else X[col] for col, dtype in enumerate(self.dtypes)])    \n",
    "        if y is not None:\n",
    "            self.le=LabelEncoder()\n",
    "            return X, self.le.fit_transform(y)\n",
    "        return X\n",
    "    \n",
    "    def fit(self, X, y):\n",
    "        \n",
    "        X, y = self.preprocess(X, y)\n",
    "        X = X.T\n",
    "        self.trees=[]\n",
    "        self.features=[]\n",
    "        \n",
    "        num_of_samples=int(np.sqrt(X.shape[0]))\n",
    "        num_of_features=int(np.ceil(np.log2(X.shape[1]+1)))\n",
    "        \n",
    "        for _ in range(self.num_of_trees):\n",
    "            \n",
    "            features=random.sample(range(X.shape[1]), k=num_of_features)\n",
    "            indicies=random.choices(range(X.shape[0]), k=num_of_samples)\n",
    "            tree=DecisionTree()\n",
    "            tree.fit(X[indicies][:, features], y[indicies])\n",
    "            self.trees.append(tree)\n",
    "            self.features.append(features)\n",
    "            \n",
    "    def predict(self, X):\n",
    "        \n",
    "        X=self.preprocess(X, fit=False).T\n",
    "        results=[]\n",
    "        \n",
    "        for tree, feature in zip(self.trees, self.features):           \n",
    "            results.append(tree.predict_classes(X[:, feature]))\n",
    "        return np.apply_along_axis(lambda polls : np.bincount(polls).argmax(), 0, np.array(results))\n",
    "    \n",
    "    def predict_classes(self, X):\n",
    "        \n",
    "        return self.le.inverse_transform(self.predict(X))\n",
    "    \n",
    "    def score(self, X, y):\n",
    "        return accuracy_score(self.predict(X), y)"
   ]
  },
  {
   "cell_type": "code",
   "execution_count": 14,
   "metadata": {
    "ExecuteTime": {
     "end_time": "2020-09-18T10:33:08.132643Z",
     "start_time": "2020-09-18T10:32:57.771578Z"
    },
    "scrolled": false
   },
   "outputs": [
    {
     "name": "stderr",
     "output_type": "stream",
     "text": [
      "C:\\Users\\Sayan\\anaconda3\\envs\\tf\\lib\\site-packages\\sklearn\\metrics\\_classification.py:1221: UndefinedMetricWarning: Precision and F-score are ill-defined and being set to 0.0 in labels with no predicted samples. Use `zero_division` parameter to control this behavior.\n",
      "  _warn_prf(average, modifier, msg_start, len(result))\n"
     ]
    },
    {
     "name": "stdout",
     "output_type": "stream",
     "text": [
      "              precision    recall  f1-score   support\n",
      "\n",
      "middle-class       0.76      1.00      0.86     24720\n",
      "  rich-class       0.00      0.00      0.00      7841\n",
      "\n",
      "    accuracy                           0.76     32561\n",
      "   macro avg       0.38      0.50      0.43     32561\n",
      "weighted avg       0.58      0.76      0.66     32561\n",
      "\n"
     ]
    }
   ],
   "source": [
    "from sklearn.metrics import classification_report\n",
    "import pandas as pd\n",
    "df=pd.read_csv('wealth.csv')\n",
    "X=df.drop(columns=['income'])\n",
    "y=df['income']\n",
    "\n",
    "cls=RandomForest()\n",
    "cls.fit(X, y)\n",
    "pred=cls.predict_classes(X)\n",
    "print(classification_report(y, pred))"
   ]
  },
  {
   "cell_type": "code",
   "execution_count": 13,
   "metadata": {
    "ExecuteTime": {
     "end_time": "2020-09-18T10:32:45.697433Z",
     "start_time": "2020-09-18T10:32:45.691449Z"
    }
   },
   "outputs": [
    {
     "data": {
      "text/plain": [
       "array([0, 0, 0, ..., 0, 0, 0], dtype=int64)"
      ]
     },
     "execution_count": 13,
     "metadata": {},
     "output_type": "execute_result"
    }
   ],
   "source": [
    "pred"
   ]
  },
  {
   "cell_type": "code",
   "execution_count": null,
   "metadata": {},
   "outputs": [],
   "source": []
  }
 ],
 "metadata": {
  "kernelspec": {
   "display_name": "Python [conda env:tf] *",
   "language": "python",
   "name": "conda-env-tf-py"
  },
  "language_info": {
   "codemirror_mode": {
    "name": "ipython",
    "version": 3
   },
   "file_extension": ".py",
   "mimetype": "text/x-python",
   "name": "python",
   "nbconvert_exporter": "python",
   "pygments_lexer": "ipython3",
   "version": "3.7.7"
  },
  "toc": {
   "base_numbering": 1,
   "nav_menu": {},
   "number_sections": true,
   "sideBar": true,
   "skip_h1_title": false,
   "title_cell": "Table of Contents",
   "title_sidebar": "Contents",
   "toc_cell": false,
   "toc_position": {},
   "toc_section_display": true,
   "toc_window_display": false
  }
 },
 "nbformat": 4,
 "nbformat_minor": 4
}
