{
 "cells": [
  {
   "cell_type": "code",
   "execution_count": 32,
   "metadata": {
    "ExecuteTime": {
     "end_time": "2020-09-12T03:30:58.111036Z",
     "start_time": "2020-09-12T03:30:58.102060Z"
    }
   },
   "outputs": [],
   "source": [
    "class Node:\n",
    "    \n",
    "    def __init__(self, feature, threshold, answer=0, left=None, right=None):\n",
    "        self.left=left\n",
    "        self.right=right\n",
    "        self.feature=feature\n",
    "        self.threshold=threshold\n",
    "        self.answer=answer\n",
    "        pass \n",
    "    \n",
    "    def setleft(self, left):\n",
    "        self.left=left        \n",
    "    def setright(self, right):\n",
    "        self.right=right "
   ]
  },
  {
   "cell_type": "code",
   "execution_count": 194,
   "metadata": {
    "ExecuteTime": {
     "end_time": "2020-09-12T06:45:53.927274Z",
     "start_time": "2020-09-12T06:45:53.884389Z"
    }
   },
   "outputs": [],
   "source": [
    "import numpy as np\n",
    "from sklearn.preprocessing import LabelEncoder   \n",
    "\n",
    "def accuracy_score(true, pred):\n",
    "    return (true==pred).mean()\n",
    "\n",
    "def cvtToFeasibleDtype(colArray):\n",
    "    if colArray.dtype==np.dtype('int32') or  colArray.dtype==np.dtype('int64'):\n",
    "        return colArray\n",
    "    try:\n",
    "        return colArray.astype(float)\n",
    "    except:\n",
    "        return colArray.astype(str)    \n",
    "\n",
    "def squaredSumOfFractions(yi):    \n",
    "    _, counts=np.unique(yi, return_counts=True)\n",
    "    return np.linalg.norm(counts/yi.shape[0])**2\n",
    "    \n",
    "def computeGini(x, y, threshold):\n",
    "    leftclassfraction=np.count_nonzero(x<=threshold)/len(x)\n",
    "    rightclassfraction=np.count_nonzero(x>threshold)/len(x)\n",
    "    return leftclassfraction*(1 - squaredSumOfFractions(y[x<=threshold])) + rightclassfraction*(1 - squaredSumOfFractions(y[x>threshold]))\n",
    "    \n",
    "class DecisionTree:\n",
    "    \n",
    "    def __init__(self, maxHeight=10, minSamplesSplit=3):\n",
    "        self.maxHeight=maxHeight\n",
    "        self.minSamplesSplit=minSamplesSplit\n",
    "        pass\n",
    "    \n",
    "    def selectFeature(self, X, y):\n",
    "\n",
    "        featurewiseImpurity=[]\n",
    "        thresholds=[]\n",
    "\n",
    "        for feature in range(X.shape[0]):\n",
    "            \n",
    "            thresholdwiseImpurity=[]\n",
    "            uniquevals=np.sort(np.unique(X[feature]))\n",
    "            \n",
    "            possiblethresholds=(uniquevals[1:] + uniquevals[:-1]) / 2\n",
    "            if len(uniquevals)==1:\n",
    "                possiblethresholds=[uniquevals[0]]\n",
    "            \n",
    "            for threshold in possiblethresholds:\n",
    "                thresholdwiseImpurity.append(computeGini(X[feature], y, threshold))            \n",
    "            \n",
    "            whichthreshold=np.argmin(thresholdwiseImpurity)\n",
    "            thresholds.append(possiblethresholds[whichthreshold])\n",
    "            featurewiseImpurity.append(thresholdwiseImpurity[whichthreshold])\n",
    "        \n",
    "        whichfeature = np.argmin(featurewiseImpurity)\n",
    "        return whichfeature, thresholds[whichfeature], featurewiseImpurity[whichfeature]\n",
    "        \n",
    "    def build_tree(self, X, y, giniIndex, height=0):\n",
    "\n",
    "        if np.unique(y).shape[0]==1 or height>=self.maxHeight or X.shape[1]<self.minSamplesSplit:\n",
    "            return Node('', '', np.bincount(y).argmax())\n",
    "        \n",
    "        feature, threshold, newGini = self.selectFeature(X, y)  \n",
    "        if newGini>giniIndex or np.unique(X[feature]).shape[0]==1:\n",
    "            return Node('', '', np.bincount(y).argmax())\n",
    "        \n",
    "        root=Node(feature, threshold, np.bincount(y).argmax())        \n",
    "        leftRows, rightRows = X[feature]<=threshold, X[feature]>threshold\n",
    "        root.setleft(self.build_tree(X[:, leftRows], y[leftRows], newGini, \n",
    "                                     height=height+1))\n",
    "        root.setright(self.build_tree(X[:, rightRows], y[rightRows], newGini, \n",
    "                                      height=height+1))\n",
    "        return root\n",
    "    \n",
    "    def preprocess(self, X, y=None, fit=True):\n",
    "        \n",
    "        X = np.array(X).T\n",
    "        X = [cvtToFeasibleDtype(X[col]) for col in range(len(X))]\n",
    "        \n",
    "        if not fit:            \n",
    "            X = np.array([self.encoders[col].transform(X[col]) \n",
    "                    if col in self.encoders else X[col] for col in range(len(X))])            \n",
    "            if y is not None:\n",
    "                return X, self.le.transform(y)\n",
    "            return X\n",
    "        \n",
    "        self.dtypes = [col.dtype for col in X]    \n",
    "        self.encoders = {i:LabelEncoder() for i, dtype in enumerate(self.dtypes) \n",
    "                         if dtype.char == 'U'}        \n",
    "        X = np.array([self.encoders[col].fit_transform(X[col]) \n",
    "                    if dtype.char == 'U' else X[col] for col, dtype in enumerate(self.dtypes)])    \n",
    "        if y is not None:\n",
    "            self.le=LabelEncoder()\n",
    "            return X, self.le.fit_transform(y)\n",
    "        return X\n",
    "    \n",
    "    def fit(self, X, y):\n",
    "        \n",
    "        X, y = self.preprocess(X, y)\n",
    "        self.root=self.build_tree(X, y, 1-squaredSumOfFractions(y))\n",
    "    \n",
    "    def predict(self, X):\n",
    "        \n",
    "        X=self.preprocess(X, fit=False).T\n",
    "        predictions=[]\n",
    "        for x in X:\n",
    "            root=self.root\n",
    "            while root.left:\n",
    "                if x[root.feature] <= root.threshold:\n",
    "                    root=root.left\n",
    "                else:\n",
    "                    root=root.right\n",
    "            predictions.append(root.answer)\n",
    "        return np.array(predictions)\n",
    "    \n",
    "    def predict_classes(self, X):\n",
    "        return self.le.inverse_transform(self.predict(X))\n",
    "    \n",
    "    def score(self, X, y):\n",
    "        return accuracy_score(self.predict(X), self.le.transform(y))"
   ]
  },
  {
   "cell_type": "code",
   "execution_count": 195,
   "metadata": {
    "ExecuteTime": {
     "end_time": "2020-09-12T06:46:03.312811Z",
     "start_time": "2020-09-12T06:45:55.372039Z"
    }
   },
   "outputs": [
    {
     "data": {
      "text/plain": [
       "0.9648506151142355"
      ]
     },
     "execution_count": 195,
     "metadata": {},
     "output_type": "execute_result"
    }
   ],
   "source": [
    "from sklearn.datasets import load_breast_cancer\n",
    "X, y = load_breast_cancer(return_X_y=True)\n",
    "\n",
    "cls=DecisionTree()\n",
    "cls.fit(X, y)\n",
    "cls.predict(X)\n",
    "cls.score(X, y)"
   ]
  },
  {
   "cell_type": "code",
   "execution_count": null,
   "metadata": {},
   "outputs": [],
   "source": []
  }
 ],
 "metadata": {
  "kernelspec": {
   "display_name": "Python 3",
   "language": "python",
   "name": "python3"
  },
  "language_info": {
   "codemirror_mode": {
    "name": "ipython",
    "version": 3
   },
   "file_extension": ".py",
   "mimetype": "text/x-python",
   "name": "python",
   "nbconvert_exporter": "python",
   "pygments_lexer": "ipython3",
   "version": "3.7.7"
  },
  "toc": {
   "base_numbering": 1,
   "nav_menu": {},
   "number_sections": true,
   "sideBar": true,
   "skip_h1_title": false,
   "title_cell": "Table of Contents",
   "title_sidebar": "Contents",
   "toc_cell": false,
   "toc_position": {},
   "toc_section_display": true,
   "toc_window_display": false
  }
 },
 "nbformat": 4,
 "nbformat_minor": 4
}
