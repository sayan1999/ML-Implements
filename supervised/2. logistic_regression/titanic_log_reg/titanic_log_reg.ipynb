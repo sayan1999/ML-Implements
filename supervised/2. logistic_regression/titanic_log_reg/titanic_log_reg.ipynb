{
 "cells": [
  {
   "cell_type": "markdown",
   "metadata": {},
   "source": [
    "## Import dependencies"
   ]
  },
  {
   "cell_type": "code",
   "execution_count": null,
   "metadata": {},
   "outputs": [],
   "source": [
    "import pandas as pd\n",
    "import numpy as np\n",
    "from sklearn import linear_model\n",
    "from sklearn.model_selection import train_test_split\n",
    "from sklearn.metrics import classification_report\n",
    "import matplotlib.pyplot as plt\n",
    "import matplotlib"
   ]
  },
  {
   "cell_type": "markdown",
   "metadata": {},
   "source": [
    "## Load data"
   ]
  },
  {
   "cell_type": "code",
   "execution_count": null,
   "metadata": {},
   "outputs": [],
   "source": [
    "dataset = pd.read_csv('dataset/train.csv')\n",
    "dataset.head()"
   ]
  },
  {
   "cell_type": "markdown",
   "metadata": {},
   "source": [
    "## Feature selection and data cleaning"
   ]
  },
  {
   "cell_type": "code",
   "execution_count": null,
   "metadata": {},
   "outputs": [],
   "source": [
    "new_features = ['Age', 'Pclass', 'Sex', 'Fare']\n",
    "target_var = ['Survived']\n",
    "df_x = dataset[new_features]\n",
    "df_y = dataset[target_var]\n",
    "\n",
    "print(df_x.isnull().sum())\n",
    "\n",
    "df_x['Age'][df_x['Age'].isnull()] = df_x['Age'].median()\n",
    "\n",
    "map_to_int={'male' : 0, 'female' : 1}\n",
    "df_x['Sex']=df_x['Sex'].apply(lambda x:map_to_int[x])\n",
    "\n",
    "print(df_x.isnull().sum())"
   ]
  },
  {
   "cell_type": "markdown",
   "metadata": {},
   "source": [
    "## Train the model"
   ]
  },
  {
   "cell_type": "code",
   "execution_count": null,
   "metadata": {},
   "outputs": [],
   "source": [
    "model = linear_model.LogisticRegression()\n",
    "\n",
    "x_train, x_test, y_train, y_test = train_test_split(df_x, df_y, test_size = 0.25, random_state = 55)\n",
    "\n",
    "model.fit(x_train, y_train)\n",
    "y_predict = model.predict(x_test)"
   ]
  },
  {
   "cell_type": "markdown",
   "metadata": {},
   "source": [
    "## Data visualization"
   ]
  },
  {
   "cell_type": "code",
   "execution_count": null,
   "metadata": {},
   "outputs": [],
   "source": [
    "%matplotlib inline\n",
    "plt.rcParams['figure.figsize'] = [10, 5]\n",
    "plt.style.use('dark_background')\n",
    "matplotlib.rcParams.update({'font.size': 10})\n",
    "\n",
    "plt.subplot(2,2,1)\n",
    "plt.title('male vs female survival')\n",
    "fraction_of_male_survived = np.sum(df_x['Sex'][df_y['Survived']==1]==0)/np.sum(df_x['Sex']==0)\n",
    "fraction_of_female_survived = np.sum(df_x['Sex'][df_y['Survived']==1]==1)/np.sum(df_x['Sex']==1)\n",
    "plt.bar([\"fraction_of_male_survived\", \"fraction_of_female_survived\"], [fraction_of_male_survived, fraction_of_female_survived])\n",
    "plt.tight_layout()\n",
    "\n",
    "plt.subplot(2,2,2)\n",
    "plt.title('survival of passenger classes')\n",
    "p1class_survival = np.sum(df_x['Pclass'][df_y['Survived']==1]==1)/np.sum(df_x['Pclass']==1)\n",
    "p2class_survival = np.sum(df_x['Pclass'][df_y['Survived']==1]==2)/np.sum(df_x['Pclass']==2)\n",
    "p3class_survival = np.sum(df_x['Pclass'][df_y['Survived']==1]==3)/np.sum(df_x['Pclass']==3)\n",
    "plt.bar([\"p1 class\", \"p2 class\", \"p3 class\"], [p1class_survival, p2class_survival, p3class_survival])\n",
    "plt.tight_layout()\n",
    "\n",
    "plt.subplot(2,2,3)\n",
    "plt.title('survival vs fare')\n",
    "under_10 = np.sum(df_x['Fare'][df_y['Survived']==1] <= 10)/np.sum(df_x['Fare']<= 10)\n",
    "_10_to_30 = ((df_x['Fare'][df_y['Survived']==1] <= 30) & (df_x['Fare'][df_y['Survived']==1] > 10)).sum()/((df_x['Fare'] > 10) & (df_x['Fare'] <= 30)).sum()\n",
    "above_30 = np.sum(df_x['Fare'][df_y['Survived']==1] > 30)/np.sum(df_x['Fare']> 30) \n",
    "plt.bar([\"under 10\", \"10 to 30\", \"above 30\"], [under_10, _10_to_30, above_30])\n",
    "plt.tight_layout()\n",
    "\n",
    "plt.subplot(2,2,4)\n",
    "plt.title('survival vs age')\n",
    "under_10 = np.sum(df_x['Age'][df_y['Survived']==1] <= 10)/np.sum(df_x['Age']<= 10)\n",
    "_10_to_30 = ((df_x['Age'][df_y['Survived']==1] <= 30) & (df_x['Age'][df_y['Survived']==1] > 10)).sum()/((df_x['Age'] > 10) & (df_x['Age'] <= 30)).sum()\n",
    "above_30 = np.sum(df_x['Age'][df_y['Survived']==1] > 30)/np.sum(df_x['Age']> 30) \n",
    "plt.bar([\"under 10\", \"10 to 30\", \"above 30\"], [under_10, _10_to_30, above_30])\n",
    "plt.tight_layout()"
   ]
  },
  {
   "cell_type": "markdown",
   "metadata": {},
   "source": [
    "## Evaluation"
   ]
  },
  {
   "cell_type": "code",
   "execution_count": null,
   "metadata": {},
   "outputs": [],
   "source": [
    "print(\"model score: \", model.score(x_test, y_test))\n",
    "print(classification_report(y_test, y_predict))\n",
    "print(classification_report(y_train, model.predict(x_train)))"
   ]
  }
 ],
 "metadata": {
  "kernelspec": {
   "display_name": "Python 3",
   "language": "python",
   "name": "python3"
  },
  "language_info": {
   "codemirror_mode": {
    "name": "ipython",
    "version": 3
   },
   "file_extension": ".py",
   "mimetype": "text/x-python",
   "name": "python",
   "nbconvert_exporter": "python",
   "pygments_lexer": "ipython3",
   "version": "3.6.9"
  }
 },
 "nbformat": 4,
 "nbformat_minor": 2
}
