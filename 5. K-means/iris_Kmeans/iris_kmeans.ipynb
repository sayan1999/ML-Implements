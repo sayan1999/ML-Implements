{
 "cells": [
  {
   "cell_type": "markdown",
   "metadata": {},
   "source": [
    "## Import dataset"
   ]
  },
  {
   "cell_type": "code",
   "execution_count": null,
   "metadata": {},
   "outputs": [],
   "source": [
    "import pandas as pd\n",
    "from copy import deepcopy\n",
    "from sklearn.datasets import load_iris\n",
    "d=load_iris()\n",
    "df=pd.DataFrame(d['data'], columns=d['feature_names'])\n",
    "df_x=deepcopy(df)\n",
    "df_x.head() "
   ]
  },
  {
   "cell_type": "markdown",
   "metadata": {},
   "source": [
    "## Normalize the data"
   ]
  },
  {
   "cell_type": "code",
   "execution_count": null,
   "metadata": {},
   "outputs": [],
   "source": [
    "from sklearn.preprocessing import StandardScaler \n",
    "scalar = StandardScaler() \n",
    "\n",
    "# fitting \n",
    "scalar.fit(df_x) \n",
    "scaled_data = scalar.transform(df_x)\n",
    "\n",
    "# np.array to dataframe\n",
    "df_x=pd.DataFrame(scaled_data, columns=df_x.columns)"
   ]
  },
  {
   "cell_type": "markdown",
   "metadata": {},
   "source": [
    "## Run KMeans algo for various number of centroids"
   ]
  },
  {
   "cell_type": "code",
   "execution_count": null,
   "metadata": {},
   "outputs": [],
   "source": [
    "from sklearn.cluster import KMeans\n",
    "\n",
    "models=list()\n",
    "\n",
    "# dummy model with 0 no. of clusters for simplification in computation\n",
    "modeli=KMeans().fit(df_x)\n",
    "models.append(modeli)\n",
    "\n",
    "# clustering algorithm for range 1:10 no of clusters\n",
    "for i in range(1,11):\n",
    "    models.append(KMeans(n_clusters=i, init='random',\n",
    "n_init=10, max_iter=300, \n",
    "    tol=1e-04, random_state=0\n",
    ").fit(df_x))"
   ]
  },
  {
   "cell_type": "markdown",
   "metadata": {},
   "source": [
    "## Elbow Method analysis to select the best no. of centroids"
   ]
  },
  {
   "cell_type": "code",
   "execution_count": null,
   "metadata": {},
   "outputs": [],
   "source": [
    "import matplotlib.pyplot as plt\n",
    "\n",
    "plt.title(\"Elbow method analysis\")\n",
    "plt.style.use('dark_background')\n",
    "plt.plot([model.inertia_ for model in models])\n",
    "plt.xlabel('no_of_centroids')\n",
    "plt.xlim(1, 10)\n",
    "plt.ylabel('inertia')\n",
    "plt.show()"
   ]
  },
  {
   "cell_type": "markdown",
   "metadata": {},
   "source": [
    "## Model selection from elbow method"
   ]
  },
  {
   "cell_type": "code",
   "execution_count": null,
   "metadata": {},
   "outputs": [],
   "source": [
    "# Best model selection based on sharp turn in the graph\n",
    "df['Cluster_index']=models[3].predict(df_x)\n",
    "df.head()"
   ]
  },
  {
   "cell_type": "markdown",
   "metadata": {},
   "source": [
    "## Data Visualization"
   ]
  },
  {
   "cell_type": "code",
   "execution_count": null,
   "metadata": {},
   "outputs": [],
   "source": [
    "import matplotlib\n",
    "plt.rcParams['figure.figsize'] = [10, 10]\n",
    "plt.style.use('dark_background')\n",
    "matplotlib.rcParams.update({'font.size': 10})\n",
    "\n",
    "plt.subplot(2,2,1)\n",
    "plt.title('sepal length')\n",
    "plt.scatter(df['sepal length (cm)'], df['Cluster_index'])\n",
    "plt.xlabel('sepal length (cm)')\n",
    "plt.ylabel('cluster index')\n",
    "plt.tight_layout()\n",
    "\n",
    "plt.subplot(2,2,2)\n",
    "plt.title('sepal width')\n",
    "plt.scatter(df['sepal width (cm)'], df['Cluster_index'])\n",
    "plt.xlabel('sepal width (cm)')\n",
    "plt.ylabel('cluster index')\n",
    "plt.tight_layout()\n",
    "\n",
    "plt.subplot(2,2,3)\n",
    "plt.title('petal length')\n",
    "plt.scatter(df['petal length (cm)'], df['Cluster_index'])\n",
    "plt.xlabel('petal length (cm)')\n",
    "plt.ylabel('cluster index')\n",
    "plt.tight_layout()\n",
    "\n",
    "plt.subplot(2,2,4)\n",
    "plt.title('petal width')\n",
    "plt.scatter(df['petal width (cm)'], df['Cluster_index'])\n",
    "plt.xlabel('petal width (cm)')\n",
    "plt.ylabel('cluster index')\n",
    "plt.tight_layout()"
   ]
  }
 ],
 "metadata": {
  "kernelspec": {
   "display_name": "Python 3",
   "language": "python",
   "name": "python3"
  },
  "language_info": {
   "codemirror_mode": {
    "name": "ipython",
    "version": 3
   },
   "file_extension": ".py",
   "mimetype": "text/x-python",
   "name": "python",
   "nbconvert_exporter": "python",
   "pygments_lexer": "ipython3",
   "version": "3.6.9"
  }
 },
 "nbformat": 4,
 "nbformat_minor": 2
}
